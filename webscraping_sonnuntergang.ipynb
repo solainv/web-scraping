{
 "cells": [
  {
   "cell_type": "code",
   "execution_count": null,
   "metadata": {},
   "outputs": [],
   "source": [
    "# Module importieren\n",
    "from bs4 import BeautifulSoup\n",
    "import requests\n",
    "def umlaut_convert(text):\n",
    "    text = text.replace(\"ä\", \"ae\")\n",
    "    text = text.replace(\"ö\", \"oe\")\n",
    "    text = text.replace(\"ü\", \"ue\")\n",
    "    text = text.replace(\"Ä\", \"Ae\")\n",
    "    text = text.replace(\"Ö\", \"Oe\")\n",
    "    text = text.replace(\"Ü\", \"Ue\")\n",
    "    return text\n",
    "\n",
    "def sunrise(city):\n",
    "    city = umlaut_convert(city)  \n",
    "    url = f'https://www.timeanddate.de/sonne/deutschland/{city.lower()}'\n",
    "    response = requests.get(url)\n",
    "    #print(response.status_code)\n",
    "\n",
    "    soup = BeautifulSoup(response.text,'html.parser')\n",
    "\n",
    "    sunrise_data = soup.table.tbody.tr.next_sibling.next_sibling.next_sibling.next_sibling.next_sibling.next_sibling.text[16:-11]\n",
    "    return  sunrise_data\n",
    "    \n",
    "def sunset(city):\n",
    "    city = umlaut_convert(city) \n",
    "    url = f'https://www.timeanddate.de/sonne/deutschland/{city.lower()}'\n",
    "    response = requests.get(url)\n",
    "    #print(response.status_code)\n",
    "\n",
    "    soup = BeautifulSoup(response.text,'html.parser')\n",
    "\n",
    "    sunset_data = soup.table.tbody.tr.next_sibling.next_sibling.next_sibling.next_sibling.next_sibling.text[16:-9]\n",
    "    return sunset_data\n",
    "\n",
    "def day_light(city):\n",
    "    city = umlaut_convert(city) \n",
    "    url = f'https://www.timeanddate.de/sonne/deutschland/{city.lower()}'\n",
    "    response = requests.get(url)\n",
    "    #print(response.status_code)\n",
    "\n",
    "    soup = BeautifulSoup(response.text,'html.parser')\n",
    "\n",
    "    day_light_data = soup.find('p',{'class':'dn-mob'}).text[13:-8]\n",
    "    return day_light_data\n",
    "\n",
    "try:\n",
    "    city = input('Gib deine Stadt an:')\n",
    "    print(f\"In der Stadt {city} geht die Sonne unter um: {sunrise(city)}\")\n",
    "    print(f\"In der Stadt {city} geht die Sonne auf um: {sunset(city)}\")\n",
    "    print(f'Das Tageslicht in der Stadt {city} beträgt circa {day_light(city)} Stunden')\n",
    "    \n",
    "except AttributeError:\n",
    "    print('Überprüfen Sie Ihren Stadtname')"
   ]
  },
  {
   "cell_type": "code",
   "execution_count": null,
   "metadata": {},
   "outputs": [],
   "source": []
  }
 ],
 "metadata": {
  "kernelspec": {
   "display_name": "Python 3 (ipykernel)",
   "language": "python",
   "name": "python3"
  },
  "language_info": {
   "codemirror_mode": {
    "name": "ipython",
    "version": 3
   },
   "file_extension": ".py",
   "mimetype": "text/x-python",
   "name": "python",
   "nbconvert_exporter": "python",
   "pygments_lexer": "ipython3",
   "version": "3.11.7"
  }
 },
 "nbformat": 4,
 "nbformat_minor": 4
}
